{
 "cells": [
  {
   "cell_type": "markdown",
   "metadata": {},
   "source": [
    "# Vis-Sieve Troubleshooting\n",
    "\n",
    "The purpose of this notebook is to troubleshoot issues we see in Vis-Sieve."
   ]
  },
  {
   "cell_type": "markdown",
   "metadata": {},
   "source": [
    "## 01_get-urls"
   ]
  },
  {
   "cell_type": "markdown",
   "metadata": {},
   "source": [
    "### ISSUE 1 - Obtaining a subset of results from our OpenAlex queries, and different subset numbers depending on output being JSON or DB.\n",
    "\n",
    "**Comparing Outputs for the year 2019**\n",
    "\n",
    "OpenAlex BROWSER OUTPUT: 6959  \n",
    "* Method: https://api.openalex.org/works?filter=publication_year:2019,institutions.ror:00hx57361&cursor=*\n",
    "* first (work)id: \"https://openalex.org/W3104062568\"\n",
    "\n",
    "\n",
    "JSON OUTPUT: works - 6959; authors - 21420 \n",
    "* Method:  \n",
    "python -m 01_get-urls.get-urls \\\n",
    "2019 2019 \\\n",
    "--ror 00hx57361 \\\n",
    "--email c.roe-raymond@princeton.edu \\\n",
    "--output urls_2019.json \\\n",
    "-a \\\n",
    "--content_root results_json/ \n",
    "* tqdm bar said #/35\n",
    "\n",
    "DB OUTPUT (no database files existed):  works - 400; authors - 940\n",
    "* Method:  \n",
    "python -m 01_get-urls.get-urls \\\n",
    "2019 2019 \\\n",
    "--ror 00hx57361 \\\n",
    "--email c.roe-raymond@princeton.edu \\\n",
    "--output urls_2019.json \\\n",
    "-a \\\n",
    "--database database/publications_princeton_2019.db \\\n",
    "--content_root results_json/ \n",
    "* tqdm bar said #/400\n",
    "* first (work)id: 2223092947\n",
    "\n",
    "# test running script with db output"
   ]
  },
  {
   "cell_type": "code",
   "execution_count": null,
   "metadata": {
    "vscode": {
     "languageId": "plaintext"
    }
   },
   "outputs": [],
   "source": []
  }
 ],
 "metadata": {
  "language_info": {
   "name": "python"
  }
 },
 "nbformat": 4,
 "nbformat_minor": 2
}
